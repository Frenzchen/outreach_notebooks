{
 "cells": [
  {
   "cell_type": "markdown",
   "metadata": {},
   "source": [
    "# Die personalisierte Medizin und die Medikamente von morgen\n",
    "\n",
    "1. [Einleitung](#introduction)\n",
    "2. [DNA-Sequenzierung und DNA-Assemblierung](#activity-1)\n",
    "3. [Der menschliche Genombrowser](#activity-2)\n",
    "4. [DNA Varianten, Mutationen und Tumorzellen](#activity-3)\n",
    "5. [DNA Alignments](#activity-4)\n",
    "6. [Welches Medikament für welchen Patienten?](#activity-5)"
   ]
  },
  {
   "cell_type": "markdown",
   "metadata": {},
   "source": [
    "## Einleitung <a id='introduction'></a>\n",
    "Die Idee der personalosierten Medizin ist es jeden Menschen die ihm bestmöglich Medikament basierend auf seiner DNA zu geben. Aber wie hängen Krankheit, DNA und Behandlung voneinander ab? Dazu brauchen wir die Bioinformatik.\n",
    "\n",
    "In den folgenden Aufgaben werden wir lernen, wie wir DNA Fragmente genauer analysieren können in dem wir sie sequenziren, assemblieren, und mit dem menschlichen Genom vergleichen. Wir werden uns dann anschauen wir Mutation gefunden werden können und wie sie Proteine beeinflussen können.\n",
    "\n",
    "In diesem Modul arbeiten wir in 4 Gruppen. wenn du in Gruppe 1 bist, dann ersezte das x in den aufgaben mit 1, wenn ddu Gruppe 2 bist, mit einer 2 usw."
   ]
  },
  {
   "cell_type": "markdown",
   "metadata": {},
   "source": [
    "## DNA Sequenzierung und Assemblierung <a id='activity-1'></a>\n",
    "### Was versteht man unter DNA-Sequenzierung und DNA-Assemblierung?\n",
    "Um sich die DNA näher anschauen zu können, muss sie zuerst einmal aus den Zellen isoliert und vervielfältigt werden. Während dieses Prozesses, wird die DNA in kleinere Fragmente zerlegt, die dann von einer Maschine gelesen werden können. Diesen Prozess nennt man <b>Sequenzierung</b> (<i>\"DNA sequencing\"</i>). Die sequenzierten DNA-Fragmente werden von der Sequenziermaschine in einer großen Datei zur Weiterverarbeitung gespeichert. \n",
    "\n",
    "<img src=\"files/sequencing-01.png\">\n",
    "\n",
    "Nach der Sequenzierung müssen die DNA-Fragmente - ähnlich wie bei einem Puzzle - wieder zusammengefügt werden, damit die Wissenschaftler sie genauer untersuchen können. Diesen Prozess des Zusammenfügens nennt man <b>DNA-Assemblierung</b> (<i>\"DNA assembly\"</i>). \n",
    "\n",
    "<img src=\"files/assembly-01.png\">\n",
    "\n",
    "### Wie funktioniert eine DNA-Assemblierung?\n",
    "\n",
    "<b>Aufgabe 1</b><br>\n",
    "Versuche innerhalb deiner Arbeitsgruppe die verschiedenen Wortfragmente zu einem vollständigen Satz zusammenzufügen. Wie gehst du dabei vor? Wie lautete der vollständige Satz?\n",
    "\n",
    "<b>Antwort:</b>"
   ]
  },
  {
   "cell_type": "markdown",
   "metadata": {},
   "source": []
  },
  {
   "cell_type": "markdown",
   "metadata": {},
   "source": [
    "<b>Aufgabe 2:</b><br>\n",
    "Anstatt der Wortfragmente, versuche nun die verschiedenen DNA-Fragmente zusammenzufügen. Verfolge dabei die gleiche Lösungstrategie wie zuvor. Was ist der Unterschied?\n",
    "\n",
    "<b>Antwort</b>"
   ]
  },
  {
   "cell_type": "markdown",
   "metadata": {
    "scrolled": false
   },
   "source": []
  },
  {
   "cell_type": "markdown",
   "metadata": {},
   "source": [
    "<b>Aufagbe 3:</b><br>\n",
    "Aufgabe 1 und 2 haben einfache Beispiele behandelt. Schaue dir nun die folgende Datei der Sequenziermaschine genauer an. Dafür tippe <code>!head probe_x.fa</code> in den Computer. Der Befehl <code>head</code> (<i>english: head = Kopf</i>) zeigt die ersten 10 Zeilen einer Datei an. Benutze den Befehl <code>!wc -l probe_x.fa</code> um die Anzahl der Sequenzen zu zählen (<i>wc = <b>w</b>ord <b>c</b>ount</i>).\n",
    "\n",
    "<br>\n",
    "<i> Für diese und folgende Aufgaben, achte darauf das du das \"x\" am Ende des Dateinnamens durch die Nummer deiner Arbeitsgruppe zu ersetzen. Also für Arbeitsgruppe 1, schreibe probe_1.fa anstatt probe_x.fa!</i>\n",
    "\n",
    "<b>Antwort</b>"
   ]
  },
  {
   "cell_type": "code",
   "execution_count": null,
   "metadata": {},
   "outputs": [],
   "source": []
  },
  {
   "cell_type": "markdown",
   "metadata": {},
   "source": [
    "<b>Aufgabe 4:</b><br>\n",
    "Der Computer braucht ca. XXX DNA-Fragmente um eine DNA-Sequenz, die aus 1000 As, Ts, Gs und Cs besteht ohne Fehler zusammen zu bauen. Das menschliche Genom hat 3'000'000'000 Nukleotide. Wie viele Sequenzen brächte der Computer also um die menschliche DNA zu rekonstrurieren?\n",
    "\n",
    "<b>Antwort:</b>"
   ]
  },
  {
   "cell_type": "markdown",
   "metadata": {},
   "source": []
  },
  {
   "cell_type": "markdown",
   "metadata": {},
   "source": [
    "## Der menschliche Genombrowser <a id='activity-2'></a>\n",
    "Wenn wir mehr über einen bestimmten Begriff lernen möchten, dann benutzen wir heutzutage einfach verschiedene Browser wir \"Chrome\", \"Firefox\" oder \"Safari\": Man tippt einfach nur den Suchnegriff ein (bzw \"googelt\" das Wort), und der Suchbrowser schlägt einem eine Reihe von Einträgen vor. \n",
    "\n",
    "Änlich zu Firefox & Co gibt es auch sogenannte \"Genombrowser\" die Wissenschaftler benutzen können, um mehr über verschiedene DNA-Fragmente zu erfahren. Einer dieser Broswer ist der \"UCSC Genome Browser\". Anstatt zu \"googlen\", nennen die Wissenschaftler das Suchen eines DNA-Fragments jedoch \"blasten\".\n",
    "\n",
    "<img src=\"files/ucsc_screenshot.jpg\" width=\"500 px\">\n",
    "\n",
    "### Blaste dein DNA Fragment\n",
    "<b>Aufgabe 5:</b> Finde heraus zu welchem Gen dein DNA Fragment gehört. Dafür:\n",
    "<ul>\n",
    "    <li>Kopiere dein DNA-Fragment aus Aufgabe 4.</li>\n",
    "    <li>Gehe zu dem menschlichen <a href=\"https://genome.ucsc.edu/cgi-bin/hgBlat?hgsid=695967569_N72ISQlmeemUCvdf81CAQmUSADUp&command=start\">UCSC Genombrowser</a> und füge die Sequenz in die Box ein. Dann klicke auf \"submit\".</li>\n",
    "    <li>Versuche deine Resultate zu interpretieren. Wie viel deines DNA-Fragmentes konnte \"geblasted\" werden und auf welchem Chromosom befindet sich dein Fragment?\n",
    "    <li>Jetzt klicke auf \"browser\" ganz links in der Tabelle. Du kannst jetzt graphisch sehen wo im Genom dein DNA-Fragment ist. Finde heraus wie das Gen, das zu deinem DNA-Fragment gehört, heißt!</li>\n",
    "</ul>\n",
    "\n",
    "<b>Antwort</b>"
   ]
  },
  {
   "cell_type": "markdown",
   "metadata": {},
   "source": []
  },
  {
   "cell_type": "markdown",
   "metadata": {},
   "source": [
    "<b>Aufgabe 6:</b><br>\n",
    "Finde mehr über dein Gen heraus. Was ist seine Funktion und in welchem Gewebe ist es aktif? (Ein guter Startpunkt - auch für Wissenschaftler - ist immer Wikipedia....)\n",
    "\n",
    "<b>Antwort</b>"
   ]
  },
  {
   "cell_type": "markdown",
   "metadata": {},
   "source": []
  },
  {
   "cell_type": "markdown",
   "metadata": {},
   "source": [
    "## DNA Varianten, Mutationen und Tumorzellen <a id='activity-3'></a>\n",
    "Tumorzellen unterscheiden sich in mehreren Eigenschaften von normalen Zellen: \n",
    "\n",
    "<ul>\n",
    "    <li>Sie teilen sich ununterbrochen.</li>\n",
    "    <li>Sie sind \"unsterblich\", da Mechanismen die den Zelltot herbeiführen können, verloren gegangen sind.</li>\n",
    "    <li>Sie sind agil und können sich so im ganzen Körper verteilen.</li>\n",
    " </ul> \n",
    "\n",
    "<b>Aufgabe 6:</b><br>\n",
    "Wie kann es dazu kommen, dass eine normale Zelle zu einer Tumorzelle wird?\n",
    "\n",
    "<b>Antwort</b>"
   ]
  },
  {
   "cell_type": "markdown",
   "metadata": {},
   "source": []
  },
  {
   "cell_type": "markdown",
   "metadata": {},
   "source": [
    "<b>Aufgabe 7:</b><br> \n",
    "Mutationen können dazu führen, dass ein einzelnes Nukleotide ausgetauscht wird (Punktmutation), zusätzliche Nukleotide hinzugefügt werden (Inserierung) oder ganz entfernt werden (Deletion). \"Mutiere\" den folgenden Satz und überlege, welche Auswirkungen die Mutation auf den Satz hat.\n",
    "\n",
    "<b>Antwort</b>"
   ]
  },
  {
   "cell_type": "markdown",
   "metadata": {},
   "source": [
    "<b>Aufgabe 8:</b><br>\n",
    "Überlege, wie groß ist die Wahrscheinlichkeit das es in den Krebszellen zweier unterschiedlicher Personen zu der gleichen Mutation kommt?\n",
    "\n",
    "<b>Antwort</b>"
   ]
  },
  {
   "cell_type": "markdown",
   "metadata": {},
   "source": []
  },
  {
   "cell_type": "markdown",
   "metadata": {
    "scrolled": true
   },
   "source": [
    "## DNA-Alignments <a id='activity-4'></a>\n",
    "Um die DNA-Unterschiede zwischen normalen und Krebszellen zu finden, vergleichen Wissenschaftler diese miteinander. Dieser Prozess des Vergleichens wird auch \"Alignment\" genannt. Bei einem Alignment werden 2 (oder mehrere) DNA-Fragmente Buchstabe für Buchstabe miteinander verglichen um Gemeinsamkeiten und Untersciede zu finden.\n",
    "\n",
    "<b>Aufgabe 9</b><br>\n",
    "Tippe `cat normale_dna_x.fa` in die erste Zelle und `cat mutierte_dns_x.fa` in die Zelle eine. Findest du den Unterschied? (`cat` ist ein Befehl der dir den kompletten Inhalt einer Datei anzeigt)\n",
    "\n",
    "Zelle 1:"
   ]
  },
  {
   "cell_type": "code",
   "execution_count": null,
   "metadata": {},
   "outputs": [],
   "source": []
  },
  {
   "cell_type": "markdown",
   "metadata": {},
   "source": [
    "Zelle 2:"
   ]
  },
  {
   "cell_type": "code",
   "execution_count": null,
   "metadata": {},
   "outputs": [],
   "source": []
  },
  {
   "cell_type": "markdown",
   "metadata": {},
   "source": [
    "Ziemlich schwer ohne Hilfsmittel... aber zum Glück gibt es ja bioinformatische Hilfsmittel!\n",
    "\n",
    "<b>Aufgabe 10</b><br>\n",
    "Gehe zu der <a href=\"https://www.ebi.ac.uk/Tools/psa/\">folgenden Seite</a> um ein Alignment der normalen Zellsequenz mit der Tumorzelle durchzuführen. Klicke auf \"Protein\" unterhalb der Überschrift \"Needle (EMBOSS)\". Kopieren die zwei Sequence und füge sie in je eine der Boxen ein. Scrolle zum Ende der Webseite und klicke auf \"submit\". Es dauert ein paar Sekunden bis das Ergebnis kommt.\n",
    "\n",
    "Wo befindet sich die Mutation und welche Art von Mutation hat stattgefunden?\n",
    "\n",
    "<b>Antwort</b>"
   ]
  },
  {
   "cell_type": "markdown",
   "metadata": {},
   "source": []
  },
  {
   "cell_type": "markdown",
   "metadata": {},
   "source": [
    "<b>Aufgabe 11:</b><br>\n",
    "Du hast nun die Mutation gefunden! Aber wie beeinflusst sie das Protein in dem sie aufgetreten ist? Benutze die unterhalb angezeigte Codon-Tabelle und übersetze die DNA-Sequenzen in den Dateien `normale_dna_auschnitt_x.txt` und `tumor_dna_auschnitt_x.txt`. Führt die Mutation zu einer Veränderung in dem Protein? Und wenn ja zu welcher? \n",
    "\n",
    "<b>Antwort</b>"
   ]
  },
  {
   "cell_type": "markdown",
   "metadata": {},
   "source": [
    "## Welches Medikament für welchen Patientent? <a id='activity-5'></a>\n",
    "In der folgenen Tabelle siehst du die Resultate deiner sowie der anderen Arbeitsgruppen.\n",
    "\n",
    "<ul>\n",
    "    <li>Wie unterscheiden sich die Tumore zwischen den verschiedenen Patienten?</li>\n",
    "    <li>Welchem Patient kann der Doktor ein spezialisiertes Medikament geben?</li>\n",
    "    <li>Was passiert mit den anderen Patienten?</li>\n",
    "</ul>\n",
    "\n"
   ]
  },
  {
   "cell_type": "code",
   "execution_count": null,
   "metadata": {},
   "outputs": [],
   "source": []
  }
 ],
 "metadata": {
  "kernelspec": {
   "display_name": "Python 3",
   "language": "python",
   "name": "python3"
  },
  "language_info": {
   "codemirror_mode": {
    "name": "ipython",
    "version": 3
   },
   "file_extension": ".py",
   "mimetype": "text/x-python",
   "name": "python",
   "nbconvert_exporter": "python",
   "pygments_lexer": "ipython3",
   "version": "3.7.0"
  }
 },
 "nbformat": 4,
 "nbformat_minor": 2
}
