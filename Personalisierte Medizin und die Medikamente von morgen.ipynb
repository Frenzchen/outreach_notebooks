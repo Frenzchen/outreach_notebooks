{
 "cells": [
  {
   "cell_type": "markdown",
   "metadata": {},
   "source": [
    "# Die personalisierte Medizin und die Medikamente von morgen\n",
    "\n",
    "1. [Einleitung](#introduction)\n",
    "2. [DNA Alignments](#activity-4)\n",
    "3. [Der menschliche Genombrowser](#activity-1)\n",
    "4. [Genfunktion](#activity-2)\n",
    "5. [Mutationen und Tumorzellen](#activity-3)\n",
    "6. [Welches Medikament für welchen Patienten?](#activity-5)"
   ]
  },
  {
   "cell_type": "markdown",
   "metadata": {},
   "source": [
    "## Einleitung <a id='introduction'></a>\n",
    "Die Idee der personalisierten Medizin ist es einem jeden Patienten basierend auf seiner Erkrankung und seinen persönlichen Gegebenheiten die bestmögliche Behandlung zu ermöglichen. In der Krebsbehandlung, spielt dieser Ansatz eine wichtige Rolle, da es viele verschiedene Krebsarten gibt.\n",
    "\n",
    "In diesem Modul werden wir uns am Beispiel vier imaginäre Krebspatienten anschauen, wie die Bioinformatik genutzt wird, um krebsverursachende Mutationen zu finden, ihre Auswirkungen auf die Zelle zu studieren und basierend auf diesen Ergebnissen hilft, personalisiertere Behandlungen und neue Medikamente zu entwickeln.\n",
    "\n",
    "<img src=\"files/patients_intro-01.jpg\" width=\"800px\">\n",
    "\n",
    "Im weiteren Verlauf werden wir in vier Gruppen (eine Gruppe per Patient) arbeiten. Wenn du in Arbeitsgruppe 1 bist, dann ersetze das «x» in den Aufgaben mit einer «1», wenn du in Arbeitsgruppe 2 bist, mit einer «2» usw."
   ]
  },
  {
   "cell_type": "markdown",
   "metadata": {},
   "source": [
    "## DNA-Alignments <a id='activity-4'></a>\n",
    "### DNA-Fragmente\n",
    "Nach der DNA-Sequenzierung der gesunden und der Krebszelle, werden die DNA-Fragmente näher analysiert. Zu Beginn ist es immer erst einmal gut sich mit den Daten mit denen man arbeitet vertraut zu machen. Tippe dazu `!cat fragment_x.txt` in die Codezeile ein, um dir dein DNA-Fragment anzuschauen. Der Befehl `cat` wird benutzt, um den Inhalt einer Datei anzuzeigen (<i>english: cat = concatenate</i>), in unserem Fall ist es die Datei `fragment_x.txt`. Vergiss dabei nicht \"x\" durch deine Gruppennummer zu ersätzen.\n",
    "\n",
    "<b>Antwort</b>"
   ]
  },
  {
   "cell_type": "code",
   "execution_count": null,
   "metadata": {
    "scrolled": true
   },
   "outputs": [],
   "source": []
  },
  {
   "cell_type": "markdown",
   "metadata": {},
   "source": [
    "Ganz schön vielen As, Ts, Gs, and Cs... benutze den Befehl `!wc -m fragment_x.txt` um die Anzahl der Nukleotide zu bestimmen <i>(english: wc = <b>w</b>ord <b>c</b>ount)</i>.\n",
    "\n",
    "<b>Anwort</b>"
   ]
  },
  {
   "cell_type": "code",
   "execution_count": null,
   "metadata": {},
   "outputs": [],
   "source": []
  },
  {
   "cell_type": "markdown",
   "metadata": {},
   "source": [
    "### Finde die Mutation\n",
    "Um die DNA-Unterschiede zwischen normalen und Krebszellen zu finden, müssen wir diese miteinander vergleichen. Dieser Prozess des Vergleichens wird auch <b>Alignment</b> genannt. Bei einem Alignment werden 2 (oder mehrere) DNA-Fragmente Buchstabe für Buchstabe miteinander verglichen um Gemeinsamkeiten und Unterschiede zu finden.\n",
    "\n",
    "<img src=\"files/alignment-01.jpg\" width=\"600px\">\n",
    "\n",
    "<b>Aufgabe</b><br>\n",
    "Schaue dir den Inalt der Datei `referenz.txt` und `fragment_x.txt`. Benutze dafür wie im vorherigen Beispiel den Befehl `cat`. Findest du den Unterschied?\n",
    "\n",
    "<b>Antwort</b>"
   ]
  },
  {
   "cell_type": "code",
   "execution_count": null,
   "metadata": {},
   "outputs": [],
   "source": []
  },
  {
   "cell_type": "code",
   "execution_count": null,
   "metadata": {},
   "outputs": [],
   "source": []
  },
  {
   "cell_type": "markdown",
   "metadata": {},
   "source": [
    "Ziemlich schwer ohne Hilfsmittel... aber zum Glück gibt es ja bioinformatische Hilfsmittel! Gehe zu der <a href=\"https://www.ebi.ac.uk/Tools/psa/\">folgenden Seite</a> um ein Alignment der normalen Zellsequenz (`referenz.txt`) mit der Tumorzelle (`fragment.txt`) durchzuführen. Klicke auf <b>Protein</b> unterhalb der Überschrift <b>Needle (EMBOSS)</b>. Kopieren die zwei Sequence und füge sie in je eine der Boxen ein. Scrolle zum Ende der Webseite und klicke auf <b>submit</b>. Es dauert ein paar Sekunden bis das Ergebnis kommt.\n",
    "\n",
    "An welcher Stelle befindet sich die Mutation und welches Nukleotid is mutiert?\n",
    "\n",
    "<b>Antwort</b>"
   ]
  },
  {
   "cell_type": "code",
   "execution_count": null,
   "metadata": {},
   "outputs": [],
   "source": []
  },
  {
   "cell_type": "markdown",
   "metadata": {},
   "source": [
    "## Der menschliche Genombrowser <a id='activity-1'></a>\n",
    "### Blaste dein DNA-Fragment\n",
    "Wir wissen nun, dass es eine Mutation in unserem DNA-Fragment gibt und wo sie sich befinden. Jetzt müssen wir natürlich mehr über das Fragment erfahren: Gehört es zu einem Gen? Was macht es?\n",
    "\n",
    "Um mehr über einen bestimmten Begriff zu lernen, benutzen wir heutzutage einfach verschiedene Browser wir <b>Chrome</b>, <b>Firefox</b> oder <b>Safari</b>: Man tippt den Suchbegriff ein (bzw. <b>googelt</b> das Wort) und der Suchbrowser schlägt eine Reihe von Ergebnissen vor. \n",
    "\n",
    "Änlich zu Firefox & Co gibt es auch sogenannte <b>Genombrowser</b> die Wissenschaftler benutzen, um im Genom zu browsen und um mehr über verschiedene DNA-Fragmente zu erfahren. Einer dieser Broswer ist der <b>UCSC Genome Browser</b>. Anstatt einen Begriff zu googlen, nennen die Wissenschaftler das Suchen eines DNA-Fragments jedoch <b>blasten</b>.\n",
    "<br>\n",
    "Um mehr über dein DNA-Fragment zu lernen, folge den folgenden Schritten:\n",
    "\n",
    "Kopiere dein DNA-Fragment aus dem vorherigen Beispiel und gehe zum menschlichen <a href=\"https://genome.ucsc.edu/cgi-bin/hgBlat?hgsid=695967569_N72ISQlmeemUCvdf81CAQmUSADUp&command=start\">UCSC Genombrowser</a>. Füge die Sequenz in die Suchbox ein. Dann klicke auf \"submit\".\n",
    "\n",
    "<img src=\"files/blat_search-01.jpg\">\n",
    "\n",
    "Versuche dein Resultat zu interpretieren: Wie viel deines DNA-Fragmentes konnte geblasted werden und auf welchem Chromosom befindet sich das Fragment?\n",
    "\n",
    "<img src=\"files/blat_result-01.jpg\">\n",
    "\n",
    "<b>Antwort</b>"
   ]
  },
  {
   "cell_type": "markdown",
   "metadata": {},
   "source": []
  },
  {
   "cell_type": "markdown",
   "metadata": {},
   "source": [
    "Klicke anschließend auf <b>browser</b> links in der Tabelle, um zu sehen wo im Genom sich dein DNA-Fragment befindet. Wie heisst das Gen zu dem dein DNA-Fragment gehört?\n",
    "\n",
    "<img src=\"files/ucsc-01.jpg\">\n",
    "\n",
    "<b>Antwort</b>"
   ]
  },
  {
   "cell_type": "markdown",
   "metadata": {},
   "source": []
  },
  {
   "cell_type": "markdown",
   "metadata": {},
   "source": [
    "## Genfunktion <a id='activity-2'></a>\n",
    "### In welchem Gewebe ist mein Gen aktiv?\n",
    "Finde mehr über dein Gen heraus! Was ist seine Funktion und in welchem Gewebe ist es aktif? Dazu benutze den <a href=\"https://www.proteinatlas.org/\">Human Protein Atlas</a> (= menschlicher Proteinatlas). Sobald du auf der Startseite bist, tippe den Gennamen (BRAF) in das Suchfenster, klicke auf das erste Resultat und schaue dir die Tabelle <b>RNA and protein expression summary</b> an.\n",
    "\n",
    "<b>Antwort</b>"
   ]
  },
  {
   "cell_type": "markdown",
   "metadata": {},
   "source": []
  },
  {
   "cell_type": "markdown",
   "metadata": {},
   "source": [
    "### Proteindomänen\n",
    "Proteine sind oft in kleinere Domänen unterteilt die unterschiedliche Funktionen haben: Sie können eine chemische Reaktion katalysieren oder an andere Proteine oder die DNA binden.\n",
    "\n",
    "Benutze die Software <b>HMMER</b> um die Proteindomänen des Gens BRAF zu bestimmen. Dazu gehe zu der <a href=\"https://www.ebi.ac.uk/Tools/hmmer/search/hmmscan\">HMMER Webseite</a>, kopiere die BRAF Proteinsequenz die du in der Datei `braf_protein.txt` findest in das Suchfenster und clicke auf <b>submit</b>. Es dauert ein paar Sekunden bis das Ergebnis angezeigt wird. Um den Inhalt der Datei `braf_protein.txt` anzuzeigen, benutze den Befehl `cat` wie in den vorherigen Beispielen. \n",
    "\n",
    "<b>Antwort</b>"
   ]
  },
  {
   "cell_type": "code",
   "execution_count": null,
   "metadata": {},
   "outputs": [],
   "source": []
  },
  {
   "cell_type": "markdown",
   "metadata": {},
   "source": [
    "### Auswirkungen auf die Proteinfunktion\n",
    "Du weißt nun wie dein protein strukturiert ist und wo die Mutation vorkommt! Aber wie beeinflusst die Mutation das Protein? Benutze die unterhalb angezeigte Codon-Tabelle und übersetze die DNA-Sequenzen in der Datei `fragment_x_mutiert.txt`. Zu welcher Veränderung führt die Mutation in dem Protein?\n",
    "\n",
    "<b>Codon Tabelle</b> \n",
    "<img src=\"files/Aminoacids_table-01.jpg\" width=\"400px\">\n",
    "\n",
    "<b>Antwort</b>"
   ]
  },
  {
   "cell_type": "markdown",
   "metadata": {},
   "source": []
  },
  {
   "cell_type": "markdown",
   "metadata": {},
   "source": [
    "Gehe zurück zu <b>HMMER</b> und vergleiche In welcher Proteindomäne ist die Mutation? Was könnte sie bewirken?\n",
    "\n",
    "<b>Antwort</b>"
   ]
  },
  {
   "cell_type": "code",
   "execution_count": null,
   "metadata": {},
   "outputs": [],
   "source": []
  },
  {
   "cell_type": "markdown",
   "metadata": {},
   "source": [
    "## Mutationen und Tumorzellen <a id='activity-3'></a>\n",
    "Tumorzellen unterscheiden sich in mehreren Eigenschaften von normalen Zellen: \n",
    "\n",
    "<ul>\n",
    "    <li>Sie teilen sich ununterbrochen.</li>\n",
    "    <li>Sie sind \"unsterblich\", da Mechanismen die den Zelltot herbeiführen können, verloren gegangen sind.</li>\n",
    "    <li>Sie sind mobil und können sich so im ganzen Körper verteilen.</li>\n",
    " </ul> \n",
    "\n",
    "<img src=\"files/mutation-01.jpg\" width=\"800px\">\n",
    "\n",
    "Überlege, welche Einflüsse können dazu führen, dass eine normale Zelle zu einer Tumorzelle wird?\n",
    "\n",
    "<b>Antwort</b>"
   ]
  },
  {
   "cell_type": "code",
   "execution_count": null,
   "metadata": {},
   "outputs": [],
   "source": []
  },
  {
   "cell_type": "markdown",
   "metadata": {},
   "source": [
    "Wie groß ist die Wahrscheinlichkeit das es in den Krebszellen zweier unterschiedlicher Patienten zu der gleichen Mutation kommt?\n",
    "\n",
    "<b>Antwort</b>"
   ]
  },
  {
   "cell_type": "markdown",
   "metadata": {},
   "source": []
  },
  {
   "cell_type": "markdown",
   "metadata": {},
   "source": [
    "## Welches Medikament für welchen Patientent? <a id='activity-5'></a>\n",
    "In der folgenen Tabelle siehst du die Resultate deiner sowie der anderen Arbeitsgruppen.\n",
    "\n",
    "<ul>\n",
    "    <li>Wie unterscheiden sich die Tumore zwischen den verschiedenen Patienten?</li>\n",
    "    <li>Welchem Patient kann der Doktor ein spezialisiertes Medikament geben?</li>\n",
    "    <li>Was passiert mit den anderen Patienten?</li>\n",
    "</ul>\n",
    "\n"
   ]
  },
  {
   "cell_type": "code",
   "execution_count": null,
   "metadata": {},
   "outputs": [],
   "source": []
  }
 ],
 "metadata": {
  "kernelspec": {
   "display_name": "Python 3",
   "language": "python",
   "name": "python3"
  },
  "language_info": {
   "codemirror_mode": {
    "name": "ipython",
    "version": 3
   },
   "file_extension": ".py",
   "mimetype": "text/x-python",
   "name": "python",
   "nbconvert_exporter": "python",
   "pygments_lexer": "ipython3",
   "version": "3.7.0"
  }
 },
 "nbformat": 4,
 "nbformat_minor": 2
}
