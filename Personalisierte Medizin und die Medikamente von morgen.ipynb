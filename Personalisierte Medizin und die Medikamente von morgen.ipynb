{
 "cells": [
  {
   "cell_type": "markdown",
   "metadata": {},
   "source": [
    "# Die personalisierte Medizin und die Medikamente von morgen\n",
    "\n",
    "1. [Einleitung](#introduction)\n",
    "2. [DNA Alignments](#activity-4)\n",
    "3. [Der menschliche Genombrowser](#activity-1)\n",
    "4. [Genfunktion und Proteindomänen](#activity-2)\n",
    "5. [Mutationen und Krebszellen](#activity-3)\n",
    "6. [Welches Medikament für welchen Patient?](#activity-5)"
   ]
  },
  {
   "cell_type": "markdown",
   "metadata": {},
   "source": [
    "## Einleitung <a id='introduction'></a>\n",
    "Die Idee der personalisierten Medizin ist es für jeden Patienten - basierend auf seiner Erkrankung und seinen persönlichen Gegebenheiten die bestmögliche Behandlung - zu finden. In der Krebsbehandlung spielt dieser Ansatz eine wichtige Rolle, da es viele verschiedene Krebsarten gibt.\n",
    "\n",
    "In diesem Modul werden wir uns am Beispiel vier imaginäre Krebspatienten anschauen, wie die Bioinformatik genutzt wird, um krebsverursachende Mutationen zu finden und ihre Auswirkungen auf die Zelle zu studieren sowie basierend auf diesen Ergebnissen hilft, die Behandlungen anzupassen und neue Medikamente zu entwickeln.\n",
    "\n",
    "<img src=\"files/patients_intro-01.jpg\" width=\"800px\">\n",
    "\n",
    "#### Nutzung des Notebooks\n",
    "Im weiteren Verlauf werden wir in vier Gruppen (eine Gruppe pro Patient) arbeiten. Wenn du in Gruppe 1 bist, dann ersetze das «x» in den Aufgaben mit einer «1», wenn du in Gruppe 2 bist, mit einer «2» usw.\n",
    "\n",
    "Du kannst deine Ergebnisse in die Codezeilen der Antwort schreiben. Um den Code auszuführen, drücke die Knöpfe <b>shift</b> + <b>enter</b>. Wenn du die Worte <b>Type Markdown and LaTeX:  α2</b> siehst, dann brauchst du nur einen Doppelklick auszuführen und kannst in die Zeile beliebig viel Text schreiben und einfügen.\n",
    "\n",
    "<b>Beispiel Codezeile</b>"
   ]
  },
  {
   "cell_type": "code",
   "execution_count": null,
   "metadata": {},
   "outputs": [],
   "source": []
  },
  {
   "cell_type": "markdown",
   "metadata": {},
   "source": [
    "<b>Beispiel Textzeile</b>"
   ]
  },
  {
   "cell_type": "markdown",
   "metadata": {},
   "source": []
  },
  {
   "cell_type": "markdown",
   "metadata": {},
   "source": [
    "## DNA-Alignments <a id='activity-4'></a>\n",
    "### 1. DNA-Fragmente\n",
    "Nach der DNA-Sequenzierung der gesunden und der Krebszellen, werden die DNA-Fragmente näher analysiert. Zu Beginn ist es immer erst einmal gut sich mit den Daten mit denen man arbeitet vertraut zu machen. Tippe dazu `!cat fragment_x.txt` in die Codezeile ein, um dir dein DNA-Fragment anzuschauen. Der Befehl `cat` wird benutzt, um den Inhalt einer Datei anzuzeigen (<i>Englisch: cat = con<b>cat</b>enate</i>), in unserem Fall ist es die Datei `fragment_x.txt`. Vergiss dabei nicht \"x\" durch deine Gruppennummer zu ersetzen.\n",
    "\n",
    "<b>Antwort</b>"
   ]
  },
  {
   "cell_type": "code",
   "execution_count": null,
   "metadata": {
    "scrolled": false
   },
   "outputs": [],
   "source": []
  },
  {
   "cell_type": "markdown",
   "metadata": {},
   "source": [
    "Ganz schön vielen <b>A</b>s, <b>T</b>s, <b>G</b>s und <b>C</b>s... benutze den Befehl `!wc -m fragment_x.txt` um die Anzahl der Nukleotide zu bestimmen <i>(Englisch: wc = <b>w</b>ord <b>c</b>ount)</i>.\n",
    "\n",
    "<b>Anwort</b>"
   ]
  },
  {
   "cell_type": "code",
   "execution_count": null,
   "metadata": {},
   "outputs": [],
   "source": []
  },
  {
   "cell_type": "markdown",
   "metadata": {},
   "source": [
    "### 2. Aligne dein DNA-Fragment\n",
    "Um die Unterschiede der DNA zwischen der normalen und der Krebszellen zu finden, müssen wir diese miteinander vergleichen. Dieser Prozess des Vergleichens wird auch <b>Alignment</b> (= Abgleich) genannt. Bei einem Alignment werden zwei (oder mehrere) DNA-Fragmente Buchstabe für Buchstabe miteinander verglichen um Gemeinsamkeiten und Unterschiede zu finden.\n",
    "\n",
    "<img src=\"files/alignment-01.jpg\" width=\"600px\">\n",
    "\n",
    "<b>Aufgabe</b><br>\n",
    "Schaue dir den Inhalt der Datei `referenz.txt` und `fragment_x.txt`. Benutze dafür wie im vorherigen Beispiel den Befehl `!cat`. Findest du den Unterschied?\n",
    "\n",
    "<b>Antwort</b>"
   ]
  },
  {
   "cell_type": "code",
   "execution_count": null,
   "metadata": {},
   "outputs": [],
   "source": []
  },
  {
   "cell_type": "code",
   "execution_count": null,
   "metadata": {},
   "outputs": [],
   "source": []
  },
  {
   "cell_type": "markdown",
   "metadata": {},
   "source": [
    "Ziemlich schwer ohne Hilfsmittel... aber zum Glück gibt es ja die Bioinformatik! Gehe zu der <a href=\"https://www.ebi.ac.uk/Tools/psa/\">folgenden Webseite</a> um die DNA-Sequenz der normalen Zelle (`referenz.txt`) mit der DNA-Sequenz der Krebszelle (`fragment.txt`) zu vergleichen. Klicke auf <b>Nucleotide</b> unterhalb der Überschrift <b>Needle (EMBOSS)</b>. Kopieren die zwei DNA-Sequenzen und füge sie in je eine der Boxen ein. Scrolle zum Ende der Webseite und klicke auf <b>Submit</b>. Es dauert ein paar Sekunden bis das Ergebnis angezeigt wird.\n",
    "\n",
    "An welcher Position befindet sich die Mutation und wie ist das Nukleotid mutiert?\n",
    "\n",
    "<b>Antwort</b>"
   ]
  },
  {
   "cell_type": "markdown",
   "metadata": {},
   "source": []
  },
  {
   "cell_type": "markdown",
   "metadata": {},
   "source": [
    "## Der menschliche Genombrowser <a id='activity-1'></a>\n",
    "### 1. Blaste dein DNA-Fragment\n",
    "Du kennst nun die Mutation und weisst wo in dem DNA-Fragment sie sich befindet. Als nächstes werden wir versuchen mehr über das DNA-Fragment zu erfahren: Zu welchem Gen gehört es? Und welche Funktion hat das Gen?\n",
    "\n",
    "Um mehr über einen bestimmten Begriff zu lernen, benutzen wir heutzutage verschiedene Browser wie <b>Chrome</b>, <b>Firefox</b> oder <b>Safari</b>: Man tippt den Suchbegriff ein (bzw. <b>googelt</b> das Wort) und der Suchbrowser schlägt eine Reihe von Ergebnissen vor. \n",
    "\n",
    "Ähnlich zu Firefox & Co gibt es auch sogenannte <b>Genombrowser</b> die Wissenschaftler benutzen, um im Genom zu browsen und um mehr über verschiedene DNA-Fragmente zu erfahren. Einer dieser Browser ist der <b>UCSC Genome Browser</b>. Anstatt einen Begriff zu googeln, nennen die Wissenschaftler das Suchen eines DNA-Fragments jedoch <b>blasten</b>.\n",
    "\n",
    "Kopiere dein DNA-Fragment aus dem vorherigen Beispiel und gehe zum menschlichen <a href=\"https://genome.ucsc.edu/cgi-bin/hgBlat?hgsid=695967569_N72ISQlmeemUCvdf81CAQmUSADUp&command=start\">UCSC Genombrowser</a>. Füge die Sequenz in die Suchbox ein und klicke auf <b>submit</b>.\n",
    "\n",
    "<img src=\"files/blat_search-01.jpg\" width=\"800px\">\n",
    "\n",
    "Versuche dein Resultat zu interpretieren: Wie viel deines DNA-Fragmentes konnte geblasted werden und auf welchem Chromosom befindet sich das Fragment?\n",
    "\n",
    "<img src=\"files/blat_result-01.jpg\" width=\"800px\">\n",
    "\n",
    "<b>Antwort</b>"
   ]
  },
  {
   "cell_type": "markdown",
   "metadata": {},
   "source": []
  },
  {
   "cell_type": "markdown",
   "metadata": {},
   "source": [
    "Klicke anschließend auf <b>browser</b> links in der Tabelle, um zu sehen wo im Genom sich dein DNA-Fragment befindet. Wie heisst das Gen zu dem dein DNA-Fragment gehört?\n",
    "\n",
    "<img src=\"files/ucsc-01.jpg\" width=\"800px\">\n",
    "\n",
    "<b>Antwort</b>"
   ]
  },
  {
   "cell_type": "markdown",
   "metadata": {},
   "source": []
  },
  {
   "cell_type": "markdown",
   "metadata": {},
   "source": [
    "## Genfunktion und Proteindomänen <a id='activity-2'></a>\n",
    "### 1. In welchem Gewebe ist ein Gen aktiv?\n",
    "Finde mehr über das Gen BRAF heraus! Was ist seine Funktion und in welchem Gewebe ist es aktiv? Benutze dazu den <a href=\"https://www.proteinatlas.org/\">Human Protein Atlas</a> (= menschlicher Proteinatlas). Sobald du auf der Startseite bist, tippe den Gennamen in das Suchfenster, klicke auf das erste Resultat und schaue dir die Tabelle <b>RNA and protein expression summary</b> an.\n",
    "\n",
    "<b>Antwort</b>"
   ]
  },
  {
   "cell_type": "markdown",
   "metadata": {},
   "source": []
  },
  {
   "cell_type": "markdown",
   "metadata": {},
   "source": [
    "### 2. Proteindomänen\n",
    "Ein Protein kann in kleinere Bereiche (Domänen) unterteilt werden. Jede Domäne hat eine andere Funktion: Sie kann zum Beispiel eine chemische Reaktion katalysieren oder an andere Proteine oder die DNA binden.\n",
    "\n",
    "<img src=\"files/protein_domain-01.jpg\" width=\"800px\">\n",
    "\n",
    "Benutze die Software <b>HMMER</b> um die Proteindomänen des Gens BRAF zu bestimmen. Dazu gehe zu der <a href=\"https://www.ebi.ac.uk/Tools/hmmer/search/hmmscan\">HMMER Webseite</a>, kopiere die BRAF Proteinsequenz die du in der Datei `braf_protein.txt` findest in das Suchfenster und klicke auf <b>submit</b>. Es dauert ein paar Sekunden bis das Ergebnis angezeigt wird.\n",
    "\n",
    "Aus wie vielen Aminosäuren besteht BRAF und wie viele Domänen hat das Protein? Von wo bis wo im Protein gehen die einzelnen Domänen? Und wofür sind sie zuständig? \n",
    "\n",
    "<b>Antwort</b>"
   ]
  },
  {
   "cell_type": "code",
   "execution_count": null,
   "metadata": {},
   "outputs": [],
   "source": []
  },
  {
   "cell_type": "code",
   "execution_count": null,
   "metadata": {},
   "outputs": [],
   "source": []
  },
  {
   "cell_type": "markdown",
   "metadata": {},
   "source": []
  },
  {
   "cell_type": "markdown",
   "metadata": {},
   "source": [
    "## Mutationen und Krebszellen <a id='activity-3'></a>\n",
    "### 1. Mutationen und ihre Auswirkungen auf die Proteinfunktion\n",
    "Du weisst nun wie dein Protein strukturiert ist und wo sich die Mutation befindet! Aber wie beeinflusst die Mutation das Protein? Benutze die unten angezeigte Codon-Tabelle und übersetze die DNA-Sequenzen in der Datei `fragment_x_mutiert.txt`. Zu welcher Veränderung in der Aminosäuresequenz führt die Mutation in dem Protein?\n",
    "\n",
    "<b>Codon-Tabelle</b> \n",
    "<img src=\"files/Aminoacids_table-01.jpg\" width=\"400px\">\n",
    "\n",
    "<b>Antwort</b>"
   ]
  },
  {
   "cell_type": "code",
   "execution_count": null,
   "metadata": {},
   "outputs": [],
   "source": []
  },
  {
   "cell_type": "markdown",
   "metadata": {},
   "source": []
  },
  {
   "cell_type": "markdown",
   "metadata": {},
   "source": [
    "Gehe zurück zu dem <b>HMMER</b> Ergebnis. In welcher Proteindomäne ist die Mutation? Was könnte sie bewirken?\n",
    "\n",
    "<b>Antwort</b>"
   ]
  },
  {
   "cell_type": "markdown",
   "metadata": {},
   "source": []
  },
  {
   "cell_type": "markdown",
   "metadata": {},
   "source": [
    "### 2. Krebszellen\n",
    "Krebszellen unterscheiden sich in mehreren Eigenschaften von normalen Zellen: \n",
    "\n",
    "<ul>\n",
    "    <li>Sie teilen sich ununterbrochen.</li>\n",
    "    <li>Sie sind \"unsterblich\", da Mechanismen die den Zelltod herbeiführen verloren gegangen sind.</li>\n",
    "    <li>Sie sind mobil und können sich so im ganzen Körper verteilen.</li>\n",
    " </ul> \n",
    "\n",
    "<img src=\"files/mutation-01.jpg\" width=\"600px\">\n",
    "\n",
    "Welche Einflüsse können dazu führen, dass eine normale Zelle zu einer Krebszelle wird?\n",
    "\n",
    "<b>Antwort</b>"
   ]
  },
  {
   "cell_type": "markdown",
   "metadata": {},
   "source": []
  },
  {
   "cell_type": "markdown",
   "metadata": {},
   "source": [
    "Überlege, wie hoch ist die Wahrscheinlichkeit, dass es in den Krebszellen zweier unterschiedlicher Patienten zu der gleichen Mutation kommt?\n",
    "\n",
    "<b>Antwort</b>"
   ]
  },
  {
   "cell_type": "markdown",
   "metadata": {},
   "source": []
  },
  {
   "cell_type": "markdown",
   "metadata": {},
   "source": [
    "## Welches Medikament für welchen Patient? <a id='activity-5'></a>\n",
    "### 1. Vier Patienten - vier Mutationen!\n",
    "In der folgenfen Tabelle siehst du die Resultate deiner sowie der anderen Gruppen.\n",
    "\n",
    "<ul>\n",
    "    <li>Wie unterscheiden sich die Tumore zwischen den verschiedenen Patienten?</li>\n",
    "    <li>Wieso könnte es notwendig sein jedem Patienten ein anderes Medikament zu geben?</li>\n",
    "    <li>Wie könnte das Medikament wirken?</li>\n",
    "</ul>\n",
    "\n",
    "<img src=\"files/braf_final-01.jpg\" width=\"600px\">\n",
    "\n",
    "<b>Antwort</b>"
   ]
  },
  {
   "cell_type": "markdown",
   "metadata": {},
   "source": []
  },
  {
   "cell_type": "markdown",
   "metadata": {},
   "source": [
    "### 2. Die (noch-)Grenzen der personalisierten Medizin\n",
    "Die personalisierte Medizin kann noch nicht jedem Patienten helfen. Wir kennen zwar die Mutationen, aber ihre Auswirkungen auf das Protein und die Zelle zu verstehen, bleibt oft schwierig. Und selbst wenn wir letzteres verstanden haben, müssen erst noch die richtigen Medikamente entwickelt und getestet werden...\n",
    "\n",
    "... Wissenschaftler aller Disziplinen arbeiten eng mit Medizinern zusammen, um diese Fragen zu klären und neue Behandlungsmöglichkeiten zu finden!\n",
    "\n",
    "Wenn du mehr darüber wissen möchtest wie diese Forschung aussieht, schaue dir das folgende Modul \"<a href=\"http://drug-design-workshop.ch/\">Drug design</a>\" zum Thema Medikamentenentwicklung an.\n",
    "<br>\n",
    "<br>\n",
    "<img src=\"files/drug_design.jpeg\" width=\"800px\">"
   ]
  }
 ],
 "metadata": {
  "kernelspec": {
   "display_name": "Python 3",
   "language": "python",
   "name": "python3"
  },
  "language_info": {
   "codemirror_mode": {
    "name": "ipython",
    "version": 3
   },
   "file_extension": ".py",
   "mimetype": "text/x-python",
   "name": "python",
   "nbconvert_exporter": "python",
   "pygments_lexer": "ipython3",
   "version": "3.7.0"
  }
 },
 "nbformat": 4,
 "nbformat_minor": 2
}
