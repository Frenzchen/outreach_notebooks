{
 "cells": [
  {
   "cell_type": "markdown",
   "metadata": {},
   "source": [
    "# Die personalisierte Medizin und die Medikamente von morgen\n",
    "\n",
    "1. [Einleitung](#introduction)\n",
    "2. [Rekonstruktion einer DNA-Sequenz](#activity-1)\n",
    "3. [Der menschliche Genombrowser](#activity-2)\n",
    "4. [Von der DNA zu der Aminosäuresequenz](#activity-3)\n",
    "5. [In welchem Gewebe ist das Protein aktiv?](#activity-4)\n",
    "5. [DNA-Alignments](#activity-5)\n",
    "6. [Aminosäuren, Proteinstruktur und Funktion](#activity-6)\n",
    "6. [Welches Medikament für welchen Patienten?](#activity-7)"
   ]
  },
  {
   "cell_type": "markdown",
   "metadata": {},
   "source": [
    "### 1. Einleitung <a id='introduction'></a>\n",
    "Die Idee der personalisierten Medizin ist es für jeden Patienten - basierend auf seiner Erkrankung und seinen persönlichen Gegebenheiten - die bestmögliche Behandlung zu finden. In der Krebsbehandlung spielt dieser Ansatz eine wichtige Rolle, da es viele verschiedene Krebsarten gibt.\n",
    "\n",
    "In diesem Modul werden wir uns am Beispiel vier imaginäre Krebspatienten anschauen, wie die Bioinformatik genutzt wird, um krebsverursachende Mutationen zu finden, ihre Auswirkungen auf die Zelle zu studieren und hilft, eine Krebsbehandlungen anzupassen.\n",
    "\n",
    "<img src=\"files/patients_intro-01.jpg\" width=\"800px\">\n",
    "\n",
    "#### Nutzung des Notebooks\n",
    "Im weiteren Verlauf werden wir in vier Gruppen (eine Gruppe pro Patient) arbeiten. Wenn du in Gruppe 1 bist, dann ersetze das \"x\" in den Aufgaben mit einer \"1\", wenn du in Gruppe 2 bist, mit einer \"2\" usw.\n",
    "\n",
    "Du kannst deine Ergebnisse in die Codezeilen der Antwort schreiben. Um den Code auszuführen, drücke die Knöpfe <b>shift</b> + <b>enter</b>.\n",
    "\n",
    "<b>Beispiel Codezeile</b>"
   ]
  },
  {
   "cell_type": "code",
   "execution_count": null,
   "metadata": {},
   "outputs": [],
   "source": []
  },
  {
   "cell_type": "markdown",
   "metadata": {},
   "source": [
    "### 2. Rekonstruktion einer DNA-Sequenz <a id='activity-1'></a>\n",
    "Nach der DNA-Sequenzierung der gesunden und der Krebszellen, müssen die DNA-Fragmente näher analysiert werden. Tippe `!cat tumor_fragmente_x.txt` in die Codezeile ein, um dir die DNA-Fragmente der Sequenzierung anzuschauen.\n",
    "\n",
    "Der Befehl `!cat` wird benutzt, um den Inhalt einer Datei anzuzeigen (<i>Englisch: cat = con<b>cat</b>enate</i>). In unserem Fall ist es die Datei `tumor_fragmente_x.txt`. Vergiss nicht das \"x\" durch deine Gruppennummer zu ersetzen"
   ]
  },
  {
   "cell_type": "code",
   "execution_count": null,
   "metadata": {
    "scrolled": false
   },
   "outputs": [],
   "source": []
  },
  {
   "cell_type": "markdown",
   "metadata": {},
   "source": [
    "<font color=\"2D3688\">\n",
    "<b>Aufgabe 2a</b>\n",
    "    \n",
    "Benutze den Befehl `!wc -l tumor_fragmente_x.txt` um die Anzahl der DNA-Fragmente in der Datei zu bestimmen\n",
    "<i>(Englisch: wc = <b>w</b>ord <b>c</b>ount, -l = count the <b>l</b>ines)</i>.\n",
    "</font>"
   ]
  },
  {
   "cell_type": "code",
   "execution_count": null,
   "metadata": {},
   "outputs": [],
   "source": []
  },
  {
   "cell_type": "markdown",
   "metadata": {},
   "source": [
    "<font color=\"2D3688\">\n",
    "<b>Aufgabe 2b</b>\n",
    "    \n",
    "Benutze die verteilten DNA-Fragmente, um die vollständige DNA-Sequenz zu rekonstruieren.</font>"
   ]
  },
  {
   "cell_type": "markdown",
   "metadata": {},
   "source": [
    "### 3. Der menschliche Genombrowser <a id='activity-2'></a>\n",
    "Um mehr über einen bestimmten Begriff zu lernen, benutzen wir heutzutage verschiedene Browser wie <b>Chrome</b>, <b>Firefox</b> oder <b>Safari</b>: Man tippt den Suchbegriff ein (bzw. <b>googelt</b> das Wort) und der Suchbrowser schlägt eine Reihe von Ergebnissen vor. \n",
    "\n",
    "Ähnlich zu Firefox & Co gibt es auch sogenannte <b>Genombrowser</b> die Wissenschaftler benutzen, um im Genom zu browsen und um mehr über verschiedene DNA-Fragmente zu erfahren. Einer dieser Browser ist der <b>UCSC Genome Browser</b>. Anstatt einen Begriff zu googeln, nennen die Wissenschaftler das Suchen eines DNA-Fragments jedoch <b>blasten</b>.\n",
    "\n",
    "Im nächsten Schritt wirst du dein DNA-Fragment blasten um herauszufinden von welchem Gen stammt es und wo im Genom es sich befindet."
   ]
  },
  {
   "cell_type": "markdown",
   "metadata": {},
   "source": [
    "<font color=\"2D3688\">\n",
    "<b>Aufgabe 3a</b>\n",
    "    \n",
    "Kopiere dein DNA-Fragment aus dem vorherigen Beispiel und öffne den menschlichen <a href=\"https://genome.ucsc.edu/s/Frenzchen/human_simplified\">UCSC Genombrowser</a>. Gehe zu <b>Tools > Blat</b> und füge die Sequenz in die Suchbox ein. Klicke dann auf <b>submit</b>. \n",
    "\n",
    "<img src=\"files/blat_search.jpg\" width=\"800px\">\n",
    "\n",
    "Die Suchhits werden nach Relevanz sortiert. Auf welchem Chromosom befindet sich das Fragment und wie heisst das Gen von dem es stammt? Trage die Ergebnisse in das Aufgabenblatt ein.\n",
    "<img src=\"files/blat_result.jpg\" width=\"800px\">\n",
    "</font>"
   ]
  },
  {
   "cell_type": "markdown",
   "metadata": {},
   "source": [
    "### 4. Von der DNA zur Aminosäuresequenz <a id='activity-3'></a>\n",
    "Gene codieren Proteine und diese bestehen aus Aminosäuren. Zur Herstellung des Proteins muss die DNA-Sequenz des Gens in eine Aminosäuresequenz übersetzt werden. Dabei bilden jeweils drei Nukleotide ein <b>Codon</b>. Jedes Codon steht für genau eine der 20 Aminosäuren in unserem Körper. Die Codons <b>TGA</b>, <b>TAG</b> und <b>TAA</b> bilden das Stopsignal für die Übersetzung.\n",
    "\n",
    "<b>Codon-Tabelle</b> \n",
    "<img src=\"files/codon_chart.jpg\" width=\"400px\">\n",
    "\n",
    "<font color=\"#2D3688\">\n",
    "<b>Aufgabe 4a</b><br>\n",
    "    \n",
    "Übersetze die DNA-Sequenz des Tumors mit Hilfe der Codon-Tabelle in eine Aminosäuresequenz. Trage die Aminosäuresequenz in das Aufgabenblatt ein.</font>"
   ]
  },
  {
   "cell_type": "markdown",
   "metadata": {},
   "source": [
    "### 5. In welchem Gewebe ist das Protein aktiv? <a id='activity-4'></a>\n",
    "Die meisten Proteine sind nur in einer Gruppe von Geweben oder Organen aktiv und führen ihre Funktion nur dort aus. Es ist wichtig diese Aktivitätsmuster zu verstehen, damit Mutation richtig interpretiert werden können: Ein Protein das nur in der Leber aktiv ist und mutiert ist, wird eher zu Leberkrebs und als zu Darmkrebs führen."
   ]
  },
  {
   "cell_type": "markdown",
   "metadata": {},
   "source": [
    "<font color=\"#2D3688\">\n",
    "<b>Aufgabe 5a</b>\n",
    "\n",
    "Benutze den <a href=\"https://www.proteinatlas.org/\">Human Protein Atlas</a> (= menschlicher Proteinatlas) um mehr über dein Protein herauszufinden. Sobald du auf der Startseite bist, tippe den Namen des Gens in das Suchfenster ein, klicke auf das erste Resultat und schaue dir die Tabelle <b>RNA and protein expression summary</b> an. Die Länge der Balken gibt die Proteinlevel in dem Gewebe an. Je länger der Balken, desto mehr des Proteins ist vorhanden.\n",
    "\n",
    "Interpretieren die Tabelle und trage die Gewebe in der das Protein aktiv ist in die Genkarte ein.</font>"
   ]
  },
  {
   "cell_type": "markdown",
   "metadata": {},
   "source": [
    "<font color=\"#2D3688\">\n",
    "<b>Aufgabe 5b</b>\n",
    "    \n",
    "Ist dein Gen eher ein <b>Onkogen</b> (Förderung des Tumorwachstums), oder ein <b>Tumorsupressorgen</b> (Unterdrückung der Zellteilung)? Kreuze die Antwort auf der Genkarte an.</font>    "
   ]
  },
  {
   "cell_type": "markdown",
   "metadata": {},
   "source": [
    "### 6. DNA-Alignments <a id='activity-5'></a>\n",
    "#### DNA-Alignments per Hand\n",
    "Um die Unterschiede der DNA zwischen der normalen und der Krebszellen zu finden, müssen wir diese miteinander vergleichen. Dieser Prozess des Vergleichens wird auch <b>Alignment</b> (= Abgleich) genannt. Bei einem Alignment werden zwei (oder mehrere) DNA-Fragmente Buchstabe für Buchstabe miteinander verglichen um Gemeinsamkeiten und Unterschiede zu finden.\n",
    "\n",
    "<img src=\"files/alignment-01.jpg\" width=\"600px\">"
   ]
  },
  {
   "cell_type": "markdown",
   "metadata": {},
   "source": [
    "<font color=\"#2D3688\">\n",
    "<b>Aufgabe 6a</b>\n",
    "    \n",
    "Nutze das Aufgabenblatt und vergleiche dein DNA-Sequenz mit der Referenzsequenz. Markiere die Mutationen.</font>"
   ]
  },
  {
   "cell_type": "markdown",
   "metadata": {},
   "source": [
    "#### DNA-Alignment per Software\n",
    "Die DNA-Sequenz in unserem Beispiel hat nur wenige Nukleotide. Normalerweise sind diese DNA-Sequenzen sehr viel länger und Forscher sind auf die Hilfe bioinformatischer Programme angewiesen.\n",
    "\n",
    "Benutze die DNA-Alignment Software <a href=\"https://www.ebi.ac.uk/Tools/psa/\">EMBOSS</a> um die DNA-Sequenz der normalen Zelle (`referenz_fragment_x.txt`) mit der DNA-Sequenz der Krebszelle (`tumor_fragment_x.txt`) zu vergleichen. Benutze den Befehl `!cat` wie zuvor um den Inhalt der Dateien zu sehen."
   ]
  },
  {
   "cell_type": "markdown",
   "metadata": {},
   "source": [
    "<b>DNA der Referenzsequenz:</b>"
   ]
  },
  {
   "cell_type": "code",
   "execution_count": null,
   "metadata": {},
   "outputs": [],
   "source": []
  },
  {
   "cell_type": "markdown",
   "metadata": {},
   "source": [
    "<b>DNA der Tumorsequenz:</b>"
   ]
  },
  {
   "cell_type": "code",
   "execution_count": null,
   "metadata": {},
   "outputs": [],
   "source": []
  },
  {
   "cell_type": "markdown",
   "metadata": {},
   "source": [
    "<font color=\"#2D3688\">\n",
    "<b>Aufgabe 6b</b>\n",
    "    \n",
    "Klicke auf <b>Nucleotide</b> unterhalb der Überschrift <b>Needle (EMBOSS)</b>. Kopieren die zwei DNA-Sequenzen und füge sie in je eine der Boxen ein. Scrolle zum Ende der Webseite und klicke auf <b>Submit</b>. Es dauert ein paar Sekunden bis das Ergebnis angezeigt wird.\n",
    "\n",
    "Findest du die gleichen Mutationen wie zuvor?</font>"
   ]
  },
  {
   "cell_type": "markdown",
   "metadata": {},
   "source": [
    "### 7. Aminosäuren, Proteinstruktur und Funktion <a id='activity-6'></a>\n",
    "Unser Körper besitzt 20 proteinogene Aminosäuren. Jede Aminosäure hat unterschiedliche Eigenschaften: sie sind wasserlöslich (hydrophil) oder (hydrophob), elektrisch geladen oder haben saure/basische Eigenschaften. Diese chemischen und physikalischen Eigenschaften der Aminosäuren bestimmen die 3D-Struktur und Funktion eines Proteins. Schon kleinste Veränderungen in der Sequenz können die Proteinstruktur und damit seine Funktion ändern.\n",
    "\n",
    "<img src=\"files/Overview_amino_acids.jpg\" width=\"600px\">"
   ]
  },
  {
   "cell_type": "markdown",
   "metadata": {},
   "source": [
    "<font color=\"#2D3688\">\n",
    "<b>Aufgabe 7a</b>\n",
    "    \n",
    "In der vorherigen Aufgabe hast die Mutationen die in dem Tumor vorhanden sind markiert. Führen diese zu einer Änderung der Aminosäuresequenz?\n",
    "\n",
    "<b>Aufgabe 7b</b>\n",
    "\n",
    "Welchen Einfluss könnten die Mutation auf die 3D-Struktur und Funktion des Proteins haben? Schaue dir dazu die Aminosäuren und ihre Eigenschaften in der oben aufgeführten Tabelle an.</font>"
   ]
  },
  {
   "cell_type": "markdown",
   "metadata": {},
   "source": [
    "### 8. Welches Medikament für welchen Patienten? <a id='activity-7'></a>\n",
    "### Eine Krebsart, viele Ursachen!\n",
    "In der folgenden Tabelle siehst du die eine Zusammenfassung der bisherigen Resultate aller Gruppen.\n",
    "\n",
    "<img src=\"files/braf_final.jpg\" width=\"600px\">\n",
    "\n",
    "<font color=\"#2D3688\">\n",
    "<b>Aufgabe 8a</b>\n",
    "    \n",
    "Überlege, welche Art von Medikament sollte gegeben werden, damit das Tumorwachstum aufhört?\n",
    "    \n",
    "<b>Aufgabe 8b</b>\n",
    "    \n",
    "Gehe zu der Webseite <a href=\"https://www.cancergenomeinterpreter.org/biomarkers\">Cancer Genome Interpreter</a> und versuche mit Hilfe der Informationen in der Tabelle <b>Cancer Biomarkers</b> herauszufinden welche Medikament es momentan gibt. Was bedeuten <b>resistent</b> und <b>responsive</b> in diesem Zusammenhang? In welchem Anwendungstatus befinden sich die einzelnen Medikamente?</font>"
   ]
  },
  {
   "cell_type": "markdown",
   "metadata": {},
   "source": [
    "### Es gibt noch keine Universallösung!\n",
    "Die personalisierte Medizin steckt noch in ihren Kinderschuhen. Für einen Grossteil der Mutationen konnte noch kein passendes Medikament gefunden werden. In vielen Fällen wird der Krebs durch mehr als eine Mutation ausgelöst und verschidenen Medikamentenkombinationen müssen gegeben werden.\n",
    "\n",
    "Bioinformatiker, Molekularbiologen und Mediziner versuchen jedoch ihr bestes die Auswirkungen jeder Mutation zu erforschen und neue Medikamente zu entwickeln!"
   ]
  },
  {
   "cell_type": "code",
   "execution_count": null,
   "metadata": {},
   "outputs": [],
   "source": []
  }
 ],
 "metadata": {
  "kernelspec": {
   "display_name": "Python 3",
   "language": "python",
   "name": "python3"
  },
  "language_info": {
   "codemirror_mode": {
    "name": "ipython",
    "version": 3
   },
   "file_extension": ".py",
   "mimetype": "text/x-python",
   "name": "python",
   "nbconvert_exporter": "python",
   "pygments_lexer": "ipython3",
   "version": "3.7.0"
  }
 },
 "nbformat": 4,
 "nbformat_minor": 2
}
