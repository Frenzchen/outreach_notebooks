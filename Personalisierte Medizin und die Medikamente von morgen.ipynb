{
 "cells": [
  {
   "cell_type": "markdown",
   "metadata": {},
   "source": [
    "# Die personalisierte Medizin und die Medikamente von morgen\n",
    "\n",
    "1. [Einleitung](#introduction)\n",
    "2. [DNA-Alignments](#activity-1)\n",
    "3. [Der menschliche Genombrowser](#activity-2)\n",
    "4. [Mutationen und ihre Auswirkungen auf ein Protein](#activity-3)\n",
    "5. [Proteinaktivität und Funktion](#activity-4)\n",
    "6. [Krebszellen](#activity-5)\n",
    "6. [Welches Medikament für welchen Patient?](#activity-6)"
   ]
  },
  {
   "cell_type": "markdown",
   "metadata": {},
   "source": [
    "## Einleitung <a id='introduction'></a>\n",
    "Die Idee der personalisierten Medizin ist es für jeden Patienten - basierend auf seiner Erkrankung und seinen persönlichen Gegebenheiten - die bestmögliche Behandlung zu finden. In der Krebsbehandlung spielt dieser Ansatz eine wichtige Rolle, da es viele verschiedene Krebsarten gibt.\n",
    "\n",
    "In diesem Modul werden wir uns am Beispiel vier imaginäre Krebspatienten anschauen, wie die Bioinformatik genutzt wird, um krebsverursachende Mutationen zu finden, ihre Auswirkungen auf die Zelle zu studieren und hilft, eine Krebsbehandlungen anzupassen.\n",
    "\n",
    "<img src=\"files/patients_intro-01.jpg\" width=\"800px\">\n",
    "\n",
    "#### Nutzung des Notebooks\n",
    "Im weiteren Verlauf werden wir in vier Gruppen (eine Gruppe pro Patient) arbeiten. Wenn du in Gruppe 1 bist, dann ersetze das \"x\" in den Aufgaben mit einer \"1\", wenn du in Gruppe 2 bist, mit einer \"2\" usw.\n",
    "\n",
    "Du kannst deine Ergebnisse in die Codezeilen der Antwort schreiben. Um den Code auszuführen, drücke die Knöpfe <b>shift</b> + <b>enter</b>. Wenn du die Worte <b>Type Markdown and LaTeX:  α2</b> siehst, dann brauchst du nur einen Doppelklick auszuführen und kannst in die Zeile beliebig viel Text schreiben und einfügen.\n",
    "\n",
    "<b>Beispiel Codezeile</b>"
   ]
  },
  {
   "cell_type": "code",
   "execution_count": null,
   "metadata": {},
   "outputs": [],
   "source": []
  },
  {
   "cell_type": "markdown",
   "metadata": {},
   "source": [
    "<b>Beispiel Textzeile</b>"
   ]
  },
  {
   "cell_type": "markdown",
   "metadata": {},
   "source": []
  },
  {
   "cell_type": "markdown",
   "metadata": {},
   "source": [
    "## DNA-Alignments <a id='activity-1'></a>\n",
    "### DNA-Fragmente\n",
    "Nach der DNA-Sequenzierung der gesunden und der Krebszellen, werden die DNA-Fragmente näher analysiert. Zu Beginn ist es immer erst einmal gut sich mit den Daten mit denen man arbeitet vertraut zu machen. Tippe dazu `!cat fragment_x.txt` in die Codezeile ein, um dir dein DNA-Fragment anzuschauen.\n",
    "\n",
    "Der Befehl `cat` wird benutzt, um den Inhalt einer Datei anzuzeigen (<i>Englisch: cat = con<b>cat</b>enate</i>). In unserem Fall ist es die Datei `fragment_x.txt`. Vergiss nicht das \"x\" durch deine Gruppennummer zu ersetzen.\n",
    "\n",
    "<b>Antwort</b>"
   ]
  },
  {
   "cell_type": "code",
   "execution_count": null,
   "metadata": {
    "scrolled": false
   },
   "outputs": [],
   "source": []
  },
  {
   "cell_type": "markdown",
   "metadata": {},
   "source": [
    "Ganz schön vielen <b>A</b>s, <b>T</b>s, <b>G</b>s und <b>C</b>s...\n",
    "\n",
    "<b>Aufgabe</b><br>\n",
    "Benutze den Befehl `!wc -m fragment_x.txt` um die Anzahl der Nukleotide zu bestimmen <i>(Englisch: wc = <b>w</b>ord <b>c</b>ount)</i>.\n",
    "\n",
    "<b>Anwort</b>"
   ]
  },
  {
   "cell_type": "code",
   "execution_count": null,
   "metadata": {},
   "outputs": [],
   "source": []
  },
  {
   "cell_type": "markdown",
   "metadata": {},
   "source": [
    "### Aligne dein DNA-Fragment\n",
    "Um die Unterschiede der DNA zwischen der normalen und der Krebszellen zu finden, müssen wir diese miteinander vergleichen. Dieser Prozess des Vergleichens wird auch <b>Alignment</b> (= Abgleich) genannt. Bei einem Alignment werden zwei (oder mehrere) DNA-Fragmente Buchstabe für Buchstabe miteinander verglichen um Gemeinsamkeiten und Unterschiede zu finden.\n",
    "\n",
    "<img src=\"files/alignment-01.jpg\" width=\"600px\">\n",
    "\n",
    "<b>Aufgabe</b><br>\n",
    "Schaue dir den Inhalt der Datei `fragment_x_referenz.txt` und `fragment_x.txt`. Benutze dafür wie im vorherigen Beispiel den Befehl `!cat`. Findest du den Unterschied?\n",
    "\n",
    "<b>Antwort</b>"
   ]
  },
  {
   "cell_type": "code",
   "execution_count": null,
   "metadata": {},
   "outputs": [],
   "source": []
  },
  {
   "cell_type": "code",
   "execution_count": null,
   "metadata": {},
   "outputs": [],
   "source": []
  },
  {
   "cell_type": "markdown",
   "metadata": {},
   "source": [
    "Ziemlich schwer ohne Hilfsmittel... aber zum Glück gibt es ja die Bioinformatik!\n",
    "\n",
    "Benutze die DNA-Alignment Software <a href=\"https://www.ebi.ac.uk/Tools/psa/\">EMBOSS</a> um die DNA-Sequenz der normalen Zelle (`fragment_x_referenz.txt`) mit der DNA-Sequenz der Krebszelle (`fragment_x.txt`) zu vergleichen. Klicke auf <b>Nucleotide</b> unterhalb der Überschrift <b>Needle (EMBOSS)</b>. Kopieren die zwei DNA-Sequenzen und füge sie in je eine der Boxen ein. Scrolle zum Ende der Webseite und klicke auf <b>Submit</b>. Es dauert ein paar Sekunden bis das Ergebnis angezeigt wird.\n",
    "\n",
    "<b>Aufgabe</b><br>\n",
    "Welche Mutation hat stattgefunden und an welcher Stelle der Sequenz befindet sie sich?\n",
    "\n",
    "<b>Antwort</b>"
   ]
  },
  {
   "cell_type": "markdown",
   "metadata": {},
   "source": []
  },
  {
   "cell_type": "markdown",
   "metadata": {},
   "source": [
    "## Der menschliche Genombrowser <a id='activity-2'></a>\n",
    "### Blaste dein DNA-Fragment\n",
    "Um mehr über einen bestimmten Begriff zu lernen, benutzen wir heutzutage verschiedene Browser wie <b>Chrome</b>, <b>Firefox</b> oder <b>Safari</b>: Man tippt den Suchbegriff ein (bzw. <b>googelt</b> das Wort) und der Suchbrowser schlägt eine Reihe von Ergebnissen vor. \n",
    "\n",
    "Ähnlich zu Firefox & Co gibt es auch sogenannte <b>Genombrowser</b> die Wissenschaftler benutzen, um im Genom zu browsen und um mehr über verschiedene DNA-Fragmente zu erfahren. Einer dieser Browser ist der <b>UCSC Genome Browser</b>. Anstatt einen Begriff zu googeln, nennen die Wissenschaftler das Suchen eines DNA-Fragments jedoch <b>blasten</b>.\n",
    "\n",
    "Im nächsten Schritt wirst du dein DNA-Fragment blasten um herauszufinden von welchem Gen stammt es und wo im Genom es sich befindet.\n",
    "\n",
    "<b>Aufgabe</b><br>\n",
    "Kopiere dein DNA-Fragment aus dem vorherigen Beispiel und gehe zum menschlichen <a href=\"https://genome.ucsc.edu/cgi-bin/hgBlat?hgsid=695967569_N72ISQlmeemUCvdf81CAQmUSADUp&command=start\">UCSC Genombrowser</a>. Füge die Sequenz in die Suchbox ein und klicke auf <b>submit</b>. Die Suchhits werden nach Relevanz sortiert.\n",
    "\n",
    "Wie viel deines DNA-Fragmentes konnte geblasted werden und auf welchem Chromosom befindet sich das Fragment?\n",
    "\n",
    "<img src=\"files/blat_search-01.jpg\" width=\"800px\">\n",
    "<img src=\"files/blat_result-01.jpg\" width=\"800px\">\n",
    "\n",
    "<b>Antwort</b>"
   ]
  },
  {
   "cell_type": "markdown",
   "metadata": {},
   "source": []
  },
  {
   "cell_type": "markdown",
   "metadata": {},
   "source": [
    "<b>Aufgabe</b><br>\n",
    "Klicke auf <b>browser</b> links in der Tabelle, um zu sehen wo im Genom sich dein DNA-Fragment befindet. Wie heisst das Gen zu dem dein DNA-Fragment gehört?\n",
    "\n",
    "<img src=\"files/ucsc-01.jpg\" width=\"800px\">\n",
    "\n",
    "<b>Antwort</b>"
   ]
  },
  {
   "cell_type": "markdown",
   "metadata": {},
   "source": []
  },
  {
   "attachments": {},
   "cell_type": "markdown",
   "metadata": {},
   "source": [
    "## Mutationen und ihre Auswirkungen auf ein Protein <a id='activity-3'></a>\n",
    "Gene codieren Proteine. Zur Herstellung des Proteins muss die DNA-Sequenz des Gens in eine Aminosäuresequenz übersetzt werden. Dabei bilden jeweils drei Nukleotide ein <b>Codon</b>. Jedes Codon steht für genau eine der 20 Aminosäuren in unserem Körper. Die Codons <b>TGA</b>, <b>TAG</b> und <b>TAA</b> bilden das Stopsignal für die Übersetzung.\n",
    "\n",
    "<b>Aufgabe</b><br>\n",
    "Benutze die unten angezeigte Codon-Tabelle und übersetze die DNA-Sequenzen in der Datei `fragment_x_codon.txt` in eine Aminosäuresequenz. Zu welcher Veränderung in der Aminosäuresequenz führt die Mutation in dem Protein?\n",
    "\n",
    "<b>Codon-Tabelle</b> \n",
    "<img src=\"files/codon_chart.jpg\" width=\"400px\">\n",
    "\n",
    "<b>Antwort</b>"
   ]
  },
  {
   "cell_type": "code",
   "execution_count": null,
   "metadata": {},
   "outputs": [],
   "source": []
  },
  {
   "cell_type": "markdown",
   "metadata": {},
   "source": []
  },
  {
   "cell_type": "markdown",
   "metadata": {},
   "source": [
    "## Proteinaktivität und Funktion <a id='activity-4'></a>\n",
    "### In welchem Gewebe ist das Protein aktiv?\n",
    "Proteine sind an nahezu jedem Prozess in unserem Körper beteiligt. Um die mögliche Auswirkung der Mutation auf das Protein und den Körper zu verstehen, müssen wir mehr über das Protein lernen. Dazu benutze den <a href=\"https://www.proteinatlas.org/\">Human Protein Atlas</a> (= menschlicher Proteinatlas).\n",
    "\n",
    "<b>Aufgabe</b><br>\n",
    "Sobald du auf der Startseite bist, tippe den Gennamen in das Suchfenster, klicke auf das erste Resultat und schaue dir die Tabelle <b>RNA and protein expression summary</b> an. Die Länge der Balken gibt die Proteinlevel in dem Gewebe an. Je länger der Balken, desto mehr des Proteins ist vorhanden.\n",
    "\n",
    "In welchem Gewebe(n) ist dein Protein hauptsächlich aktiv?\n",
    "\n",
    "<b>Antwort</b>"
   ]
  },
  {
   "cell_type": "markdown",
   "metadata": {},
   "source": []
  },
  {
   "cell_type": "markdown",
   "metadata": {},
   "source": [
    "### Welche Funktion hat das Protein?\n",
    "Die vier Proteine unserer Fragmente sind:\n",
    "\n",
    "<ul>\n",
    "    <li> <b>KIT</b><br>\n",
    "        Ein Zellrezeptor, der Signale anderer Zellen \"empfängt\" und an die Zelle weiterleitet.</li>\n",
    "    <li> <b>NRAS</b><br>\n",
    "        Ein kleines Protein, welches das Signal von <b>KIT</b> weiterleitet.</li>\n",
    "    <li> <b>BRAF</b><br>\n",
    "        Ein Protein, welches das Signal von <b>NRAS</b> weiterleitet und dadurch die Zellteilung anregt.</li>\n",
    "    <li> <b>PTEN</b><br>\n",
    "        Ein Protein, welches den Signalweg des \"cell survivals\" stoppen kann.</li>\n",
    "</ul>\n",
    "\n",
    "<img src=\"files/pathway-01.jpg\" width=\"800px\">"
   ]
  },
  {
   "cell_type": "markdown",
   "metadata": {},
   "source": [
    "## Krebszellen <a id='activity-5'></a>\n",
    "Krebszellen unterscheiden sich in mehreren Eigenschaften von normalen Zellen: \n",
    "\n",
    "<ul>\n",
    "    <li>Sie teilen sich ununterbrochen.</li>\n",
    "    <li>Sie sind \"unsterblich\", da Mechanismen die den Zelltod herbeiführen verloren gegangen sind.</li>\n",
    "    <li>Sie sind mobil und können sich so im ganzen Körper verteilen.</li>\n",
    " </ul> \n",
    "\n",
    "<img src=\"files/mutation-01.jpg\" width=\"600px\">\n",
    "\n",
    "<b>Aufgabe</b><br>\n",
    "Welche Auswirkungen könnten Mutationen in diesen Proteinen auf die Signalwege haben?\n",
    "\n",
    "<b>Antwort</b>"
   ]
  },
  {
   "cell_type": "markdown",
   "metadata": {},
   "source": []
  },
  {
   "cell_type": "markdown",
   "metadata": {},
   "source": [
    "<b>Aufgabe</b><br>\n",
    "Überlege, wie hoch ist die Wahrscheinlichkeit, dass es in den Krebszellen zweier unterschiedlicher Patienten zu der gleichen Mutation kommt?\n",
    "\n",
    "<b>Antwort</b>"
   ]
  },
  {
   "cell_type": "markdown",
   "metadata": {},
   "source": []
  },
  {
   "cell_type": "markdown",
   "metadata": {},
   "source": [
    "## Welches Medikament für welchen Patient? <a id='activity-6'></a>\n",
    "### Eine Krebsart, viele Ursachen!\n",
    "In der folgenden Tabelle siehst du die eine Zusammenfassung der bisherigen Resultate aller Gruppen.\n",
    "\n",
    "<img src=\"files/braf_final.jpg\" width=\"600px\">\n",
    "\n",
    "<b>Aufgabe</b><br>\n",
    "Gehe zu der Webseite <a href=\"https://www.cancergenomeinterpreter.org/biomarkers\">Cancer Genome Interpreter</a> und versuche mit Hilfe der Informationen in der Tabelle <b>Cancer Biomarkers</b> herauszufinden, welches Medikament welchem Patienten gegeben werden kann. Was bedeuten \"resistent\" und \"responsive\" in diesem Zusammenhang? In welchem Anwendungstatus befinden sich die einzelnen Medikamente?\n",
    "\n",
    "<b>Antwort</b>"
   ]
  },
  {
   "cell_type": "markdown",
   "metadata": {},
   "source": []
  },
  {
   "cell_type": "markdown",
   "metadata": {},
   "source": [
    "### Es gibt noch keine Universallösung!\n",
    "Die personalisierte Medizin steckt noch in ihren Kinderschuhen. Für einen Grossteil der Mutationen konnte noch kein passendes Medikament gefunden werden. In vielen Fällen wird der Krebs durch mehr als eine Mutation ausgelöst und Medikamentenkombination müssen ausprobiert werden.\n",
    "\n",
    "Bioinformatiker, Molekularbiologen und Mediziner versuchen jedoch ihr bestes die Auswirkungen jeder Mutation zu erforschen und neue Medikamente zu entwickeln!"
   ]
  }
 ],
 "metadata": {
  "kernelspec": {
   "display_name": "Python 3",
   "language": "python",
   "name": "python3"
  },
  "language_info": {
   "codemirror_mode": {
    "name": "ipython",
    "version": 3
   },
   "file_extension": ".py",
   "mimetype": "text/x-python",
   "name": "python",
   "nbconvert_exporter": "python",
   "pygments_lexer": "ipython3",
   "version": "3.7.0"
  }
 },
 "nbformat": 4,
 "nbformat_minor": 2
}
