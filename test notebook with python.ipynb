{
 "cells": [
  {
   "cell_type": "markdown",
   "metadata": {},
   "source": [
    "# Index\n",
    "\n",
    "1. [Introduction](#introduction)\n",
    "2. [Activity 1](#activity-1)\n",
    "3. [Activity 2](#activity-2)\n",
    "4. [Activity 3](#activity-3)\n"
   ]
  },
  {
   "cell_type": "markdown",
   "metadata": {},
   "source": [
    "\n",
    "# Introduction <a id='introduction'></a>\n",
    "(from chromosome walk) A human being is made out of 100’000 billion cells… Each one has a nucleus, in which there are 23 pairs of chromosomes; one of the chromosomes comes from our mother, and the other from our father. A chromosome is made out of a long twisted thread of DNA (the double helix). DNA is a succession of 4 different nucleotides, known as A, T, G and C. There are 3 billion nucleotides spread over 23 chromosomes! This is what is called our genome, i.e. our biological identity and the genetic heritage we pass onto our children.\n",
    "\n",
    "Much like a recipe book, each chromosome contains a certain number of recipes, known as ‘genes’. Over 20’000 genes are recipes for proteins. When a cell needs proteins, appropriate genes are ‘copied’, and the copies (called messenger RNAs) are transferred to the ribosomes, where the proteins are made. It is thanks to our proteins that we are able to breathe, to walk and to sense things. Without proteins, there is no life.\n",
    "\n",
    "All cells have the same DNA. What differs between them, are the genes that are active (\"expressed\") and produce proteins. For example, the proteins that we can find in the heart are different from the ones we can find in the muscles or in the brain. This means that if we have a number of cells and we look a which genes are expressed in them, then we can find out from which organ they come. But how do we find out which genes are expressed? With sequencing (explain sequencing). So let's try this out.\n",
    "\n",
    "# Activity 1 <a id='activity-1'></a>\n",
    "### The experiment\n",
    "Imagine, we did an experiment and sequenced three different organs: The heart, the liver and the brain. Unfortunately, someone mixed up the labels and we don't know anymore which sample belongs to which organ. The only starting point we have to figure this out, are the data files that we got from the sequencing machine. Well, lets have a look at them. \n",
    "\n",
    "Task: Type `!head sample1.fa` in the code box - what do we see?"
   ]
  },
  {
   "cell_type": "code",
   "execution_count": null,
   "metadata": {
    "scrolled": false
   },
   "outputs": [],
   "source": []
  },
  {
   "cell_type": "markdown",
   "metadata": {},
   "source": [
    "### Mapping sequences to the human genome\n",
    "Hm, but how is this gonna help us to find out more about the samples? The sequences came from genes from our DNA, so if we could find out to which gene of our genome they map to, then we could try to find out more about the gene, what it does and in which tissue it usually occurs. One way of doing this, would be to copy each sequence by hand and to blast it against the genome, but this will take time.... anyway lets try it. Follow the steps:\n",
    "\n",
    "1. Copy one of the displayed sequences\n",
    "2. Go to the human [genome browser](https://genome.ucsc.edu/cgi-bin/hgBlat?hgsid=695967569_N72ISQlmeemUCvdf81CAQmUSADUp&command=start) \n",
    "3. Paste the sequence into the white box and press \"submit\"\n",
    "4. Try to interpret the results. How much of your sequence maps to the genome and on which chromosome?\n",
    "5. Click on \"browser\" beneath the \"ACTIONS\" column in the table. This link shows you a graphical image of the result.  \n",
    "\n",
    "<img src=\"files/ucscBlast.png\">"
   ]
  },
  {
   "cell_type": "code",
   "execution_count": null,
   "metadata": {
    "scrolled": true
   },
   "outputs": [],
   "source": []
  },
  {
   "cell_type": "code",
   "execution_count": null,
   "metadata": {},
   "outputs": [],
   "source": []
  },
  {
   "cell_type": "markdown",
   "metadata": {},
   "source": [
    "Let's look at the ouput file. Type `cat output file` what we see is a list of genes to which the reads mapped, the genomic region and the number of reads for each gene. Which gene has most of the reads? Google the gene name and find out what it does. Is it representative for a specific tissue?"
   ]
  },
  {
   "cell_type": "code",
   "execution_count": null,
   "metadata": {},
   "outputs": [],
   "source": []
  }
 ],
 "metadata": {
  "kernelspec": {
   "display_name": "Python 3",
   "language": "python",
   "name": "python3"
  },
  "language_info": {
   "codemirror_mode": {
    "name": "ipython",
    "version": 3
   },
   "file_extension": ".py",
   "mimetype": "text/x-python",
   "name": "python",
   "nbconvert_exporter": "python",
   "pygments_lexer": "ipython3",
   "version": "3.7.0"
  }
 },
 "nbformat": 4,
 "nbformat_minor": 2
}
